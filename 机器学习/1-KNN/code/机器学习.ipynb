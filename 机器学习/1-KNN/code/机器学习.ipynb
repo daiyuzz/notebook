{
 "cells": [
  {
   "cell_type": "markdown",
   "metadata": {},
   "source": [
    "### 机器学习"
   ]
  },
  {
   "cell_type": "markdown",
   "metadata": {},
   "source": [
    "如果一个程序，在执行某个任务的时候，能够利用现有的经验，不断的去改善完成既定任务的性能，我们就称这个程序是具有学习能力的\n",
    "\n",
    "三要素：经验、任务和性能\n"
   ]
  },
  {
   "cell_type": "markdown",
   "metadata": {},
   "source": [
    "### 一、经验"
   ]
  },
  {
   "cell_type": "markdown",
   "metadata": {},
   "source": [
    "我们习惯上把数据看做经验：在客观世界中任何一个事物都可以用数据表示，在表述客观事物的时候，一般用特征来衡量。在机器学习中一般会用若干个特征来表示，这个特征一般会写成一个向量的形式，称为特征向量。\n",
    "\n",
    "\n",
    "经验是机器学习的基础，数据是基础"
   ]
  },
  {
   "cell_type": "markdown",
   "metadata": {},
   "source": [
    "### 二、任务"
   ]
  },
  {
   "cell_type": "markdown",
   "metadata": {},
   "source": [
    "利用现有的数据根据特定的算法，对数据进行归纳总结进而去预测某些未知数据的走向或者分类\n",
    "亦或对特征进行分析。根据任务算法模型的不同可以把机器学习分为监督学习和无监督学习。\n",
    "\n",
    "任务是核心"
   ]
  },
  {
   "cell_type": "markdown",
   "metadata": {},
   "source": [
    "监督学习：\n",
    "监督学习的主要任务是利用以往的数据来推测某个未知事物的分类或者数据走势\n",
    "\n",
    "数据特点：特征数据和标签数据\n",
    "\n",
    "根据标签数据的不同可以分为：回归问题和分类问题\n",
    "\n",
    "分类问题：标签是离散的、并且预先知晓\n",
    "\n",
    "回归问题：标签是连续的并且无法预先知晓"
   ]
  },
  {
   "cell_type": "markdown",
   "metadata": {},
   "source": [
    "#### 监督学习经典算法模型"
   ]
  },
  {
   "cell_type": "markdown",
   "metadata": {},
   "source": [
    "##### 1分类问题"
   ]
  },
  {
   "cell_type": "markdown",
   "metadata": {},
   "source": [
    "k-近邻\n",
    "线性分类器\n",
    "朴素贝叶斯\n",
    "决策树\n",
    "支持向量机\n",
    "继承学习"
   ]
  },
  {
   "cell_type": "markdown",
   "metadata": {},
   "source": [
    "#### 2回归问题\n",
    "线性回归器\n",
    "k-近邻回归器\n",
    "支持向量机回归器\n",
    "回归数\n",
    "集成回归"
   ]
  },
  {
   "cell_type": "markdown",
   "metadata": {},
   "source": [
    "### 无监督学习： "
   ]
  },
  {
   "cell_type": "markdown",
   "metadata": {},
   "source": [
    "无监督学习： \n",
    "无监督学习的主要任务：对客观事物的特征本身进行分析与认知，并不能预测客观特征"
   ]
  },
  {
   "cell_type": "markdown",
   "metadata": {},
   "source": [
    "#### 1聚类"
   ]
  },
  {
   "cell_type": "markdown",
   "metadata": {},
   "source": [
    "k-均值"
   ]
  },
  {
   "cell_type": "markdown",
   "metadata": {},
   "source": [
    "#### 2特征降维"
   ]
  },
  {
   "cell_type": "markdown",
   "metadata": {},
   "source": [
    "PCA主成分分析"
   ]
  },
  {
   "cell_type": "markdown",
   "metadata": {},
   "source": [
    "### 拓展：深度学习"
   ]
  },
  {
   "cell_type": "markdown",
   "metadata": {},
   "source": [
    "神经网络原理：卷积神经网络（CNN）、循环神经网络（RNN）"
   ]
  },
  {
   "cell_type": "markdown",
   "metadata": {},
   "source": [
    "### 三、性能"
   ]
  },
  {
   "cell_type": "markdown",
   "metadata": {},
   "source": [
    "所谓性能，指的就是完成特定任务的质量指标，如：准确率和召回率，均方误差和绝对平均误差\n",
    "\n",
    "一个学习系统性能的改善要从两个方面：数据优化和算法优化"
   ]
  },
  {
   "cell_type": "code",
   "execution_count": null,
   "metadata": {
    "collapsed": true
   },
   "outputs": [],
   "source": []
  }
 ],
 "metadata": {
  "kernelspec": {
   "display_name": "Python 3",
   "language": "python",
   "name": "python3"
  },
  "language_info": {
   "codemirror_mode": {
    "name": "ipython",
    "version": 3
   },
   "file_extension": ".py",
   "mimetype": "text/x-python",
   "name": "python",
   "nbconvert_exporter": "python",
   "pygments_lexer": "ipython3",
   "version": "3.6.2"
  }
 },
 "nbformat": 4,
 "nbformat_minor": 2
}
